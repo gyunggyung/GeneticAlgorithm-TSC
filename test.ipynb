{
 "cells": [
  {
   "cell_type": "code",
   "execution_count": 146,
   "metadata": {
    "collapsed": true
   },
   "outputs": [],
   "source": [
    "import random\n",
    "import math\n",
    "import re\n",
    "\n",
    "# 리스트 크기\n",
    "listN = 4\n",
    "# 염색체 해집단 수\n",
    "N = 8\n",
    "#교차율\n",
    "Pc = 0.7\n",
    "#변이율\n",
    "Pm = 0.001\n",
    "\n",
    "def decoding(X, Y=0):\n",
    "    #2번째 값부터 2진수를 10진수 화 (0부터 시작 -1, 처음값 제외 -1)\n",
    "    for i, x in enumerate(X[1:]):\n",
    "        Y += x* math.pow(2, listN -i -2)\n",
    "    #처음 값이 0이면 음수로 return\n",
    "    if X[0] == 0: return -Y\n",
    "    return Y"
   ]
  },
  {
   "cell_type": "code",
   "execution_count": 91,
   "metadata": {
    "collapsed": true
   },
   "outputs": [],
   "source": [
    "def Readtxt(fname):\n",
    "    #파일을 2차원 배열로 바꿔주기\n",
    "    w = []\n",
    "    with open(fname, 'r') as f :\n",
    "        for line in f: #for each line in the file,\n",
    "            w.append(line.split('\\t'))\n",
    "    return w"
   ]
  },
  {
   "cell_type": "code",
   "execution_count": 92,
   "metadata": {},
   "outputs": [],
   "source": [
    "def ScoreFunction(X):\n",
    "    \"\"\"\n",
    "    X에 속도 리스트를 넣어서 평가\n",
    "    \"\"\"\n",
    "    AirportNum = Readtxt('data/Number-of-train-people.txt')\n",
    "    AirportTime = Readtxt('data/Time-of-airport-train.txt')\n",
    "    AtherTime = Readtxt('data/Time-of-ather-train.txt')\n",
    "    sp = decoding(X)\n",
    "    return 45 - (6 * sp)"
   ]
  },
  {
   "cell_type": "code",
   "execution_count": 93,
   "metadata": {},
   "outputs": [
    {
     "data": {
      "text/plain": [
       "[[0, 1, 1, 0],\n",
       " [1, 0, 0, 0],\n",
       " [0, 1, 1, 1],\n",
       " [1, 1, 0, 1],\n",
       " [0, 1, 0, 0],\n",
       " [1, 0, 0, 0],\n",
       " [0, 1, 1, 1],\n",
       " [1, 0, 1, 1]]"
      ]
     },
     "execution_count": 93,
     "metadata": {},
     "output_type": "execute_result"
    }
   ],
   "source": [
    "#초기값\n",
    "speedlist = [[random.choice([0,1]) for i in range(listN)]for j in range(N)]\n",
    "speedlist"
   ]
  },
  {
   "cell_type": "code",
   "execution_count": 106,
   "metadata": {},
   "outputs": [
    {
     "data": {
      "text/plain": [
       "[[[0, 1, 1, 0], -6.0, 81.0, 0.17763157894736842],\n",
       " [[1, 0, 0, 0], 0.0, 45.0, 0.2763157894736842],\n",
       " [[0, 1, 1, 1], -7.0, 87.0, 0.4671052631578947],\n",
       " [[1, 1, 0, 1], 5.0, 15.0, 0.49999999999999994],\n",
       " [[0, 1, 0, 0], -4.0, 69.0, 0.6513157894736842],\n",
       " [[1, 0, 0, 0], 0.0, 45.0, 0.75],\n",
       " [[0, 1, 1, 1], -7.0, 87.0, 0.9407894736842105],\n",
       " [[1, 0, 1, 1], 3.0, 27.0, 1.0]]"
      ]
     },
     "execution_count": 106,
     "metadata": {},
     "output_type": "execute_result"
    }
   ],
   "source": [
    "def Group_assessment(speedlist):\n",
    "    #speedlist, decoding값, 염색체 적합도, 적합도 비율\n",
    "    speedlist_evaluation = [[speedlist[i], decoding(speedlist[i]), ScoreFunction(speedlist[i]), 0] for i in range(N)]\n",
    "    # 적합도 비율 찾기\n",
    "    # (각자의 값+이전값 총합)/총합\n",
    "    Sum_of_fitness = 0\n",
    "    for i in range(N): \n",
    "        Sum_of_fitness += speedlist_evaluation[i][2]\n",
    "    for i in range(N):\n",
    "        if i == 0:\n",
    "            speedlist_evaluation[i][3] = speedlist_evaluation[i][2]/Sum_of_fitness\n",
    "        else:\n",
    "            speedlist_evaluation[i][3] = speedlist_evaluation[i-1][3]  + speedlist_evaluation[i][2]/Sum_of_fitness\n",
    "    return speedlist_evaluation\n",
    "\n",
    "Group_assessment_value = Group_assessment(speedlist)\n",
    "Group_assessment_value"
   ]
  },
  {
   "cell_type": "code",
   "execution_count": 166,
   "metadata": {},
   "outputs": [
    {
     "name": "stdout",
     "output_type": "stream",
     "text": [
      "0.16204795849776255 0\n",
      "0.07031834853474428 0\n",
      "0.7050535611746817 5\n",
      "0.3282337185383627 2\n",
      "0.48988817376463445 3\n",
      "0.1676165522372859 0\n",
      "0.4413952628804515 2\n",
      "0.224522935953 1\n"
     ]
    },
    {
     "data": {
      "text/plain": [
       "[0, 0, 5, 2, 3, 0, 2, 1]"
      ]
     },
     "execution_count": 166,
     "metadata": {},
     "output_type": "execute_result"
    }
   ],
   "source": [
    "# 0 ~ 100 룰랫 돌려서 이전 값과 자신 사이에 있으면 선택\n",
    "def roulettes(Group_assessment_value):\n",
    "    roulette = random.random()\n",
    "    for i in range(N):\n",
    "        if i == 0:\n",
    "            if 0 < roulette < Group_assessment_value[i][3]:\n",
    "                break\n",
    "        if Group_assessment_value[i-1][3] < roulette < Group_assessment_value[i][3]:\n",
    "            break\n",
    "    print(roulette, i)\n",
    "    return i\n",
    "\n",
    "Selected_list_in_roulette = []\n",
    "\n",
    "for i in range(N):\n",
    "    Selected_list_in_roulette.append(roulettes(Group_assessment_value))\n",
    "\n",
    "Selected_list_in_roulette"
   ]
  },
  {
   "cell_type": "code",
   "execution_count": 169,
   "metadata": {},
   "outputs": [
    {
     "name": "stdout",
     "output_type": "stream",
     "text": [
      "[0, 0, 0, 5, 2, 3]\n"
     ]
    },
    {
     "data": {
      "text/plain": [
       "4"
      ]
     },
     "execution_count": 169,
     "metadata": {},
     "output_type": "execute_result"
    }
   ],
   "source": [
    "# 교차함수 및 변이함수 (자식만들기)\n",
    "w = []\n",
    "for i in range(int(N/2)):\n",
    "    selection = random.random()\n",
    "    if selection < Pc:\n",
    "        w.append(Selected_list_in_roulette[i])\n",
    "        w.append(Selected_list_in_roulette[i+1])\n",
    "\n",
    "new_w = []\n",
    "for i in range(int(len(w)/2)):\n",
    "    rand = random.choice([1,2,3]) # 0~ 이구간, 이구간 ~ 끝 교차 \n",
    "    for j in range(rand):\n",
    "        w[i]\n",
    "print(w)\n",
    "int(N/2)"
   ]
  },
  {
   "cell_type": "code",
   "execution_count": 99,
   "metadata": {},
   "outputs": [
    {
     "data": {
      "text/plain": [
       "0.8741910464071286"
      ]
     },
     "execution_count": 99,
     "metadata": {},
     "output_type": "execute_result"
    }
   ],
   "source": [
    "\n"
   ]
  },
  {
   "cell_type": "code",
   "execution_count": 87,
   "metadata": {},
   "outputs": [
    {
     "data": {
      "text/plain": [
       "0.056451612903225805"
      ]
     },
     "execution_count": 87,
     "metadata": {},
     "output_type": "execute_result"
    }
   ],
   "source": []
  },
  {
   "cell_type": "code",
   "execution_count": null,
   "metadata": {
    "collapsed": true
   },
   "outputs": [],
   "source": []
  },
  {
   "cell_type": "code",
   "execution_count": null,
   "metadata": {
    "collapsed": true
   },
   "outputs": [],
   "source": []
  },
  {
   "cell_type": "code",
   "execution_count": null,
   "metadata": {
    "collapsed": true
   },
   "outputs": [],
   "source": []
  },
  {
   "cell_type": "code",
   "execution_count": 25,
   "metadata": {},
   "outputs": [],
   "source": [
    "a = ReadTxt( 'data/Number-of-train-people.txt')"
   ]
  },
  {
   "cell_type": "code",
   "execution_count": 26,
   "metadata": {},
   "outputs": [
    {
     "data": {
      "text/plain": [
       "'17683'"
      ]
     },
     "execution_count": 26,
     "metadata": {},
     "output_type": "execute_result"
    }
   ],
   "source": [
    "a[0][3]"
   ]
  },
  {
   "cell_type": "code",
   "execution_count": 27,
   "metadata": {},
   "outputs": [
    {
     "data": {
      "text/plain": [
       "[['서울',\n",
       "  '일반',\n",
       "  '9516',\n",
       "  '17683',\n",
       "  '27199',\n",
       "  '8170',\n",
       "  '18430',\n",
       "  '26600',\n",
       "  '53799',\n",
       "  '\\n'],\n",
       " ['공덕',\n",
       "  '일반',\n",
       "  '1674',\n",
       "  '12842',\n",
       "  '14516',\n",
       "  '2140',\n",
       "  '13366',\n",
       "  '15506',\n",
       "  '30022',\n",
       "  '\\n'],\n",
       " ['홍대',\n",
       "  '일반',\n",
       "  '9088',\n",
       "  '19332',\n",
       "  '28420',\n",
       "  '9007',\n",
       "  '21731',\n",
       "  '30738',\n",
       "  '59158',\n",
       "  '\\n'],\n",
       " ['미디어시티',\n",
       "  '일반',\n",
       "  '11639',\n",
       "  '11423',\n",
       "  '23062',\n",
       "  '10200',\n",
       "  '12101',\n",
       "  '22301',\n",
       "  '45363',\n",
       "  '\\n'],\n",
       " ['김포공항',\n",
       "  '일반',\n",
       "  '10393',\n",
       "  '30080',\n",
       "  '40473',\n",
       "  '6548',\n",
       "  '34747',\n",
       "  '41295',\n",
       "  '81768',\n",
       "  '\\n'],\n",
       " ['계양',\n",
       "  '일반',\n",
       "  '10865',\n",
       "  '18624',\n",
       "  '29489',\n",
       "  '10130',\n",
       "  '18776',\n",
       "  '28906',\n",
       "  '58395',\n",
       "  '\\n'],\n",
       " ['검암',\n",
       "  '일반',\n",
       "  '9144',\n",
       "  '14121',\n",
       "  '23265',\n",
       "  '9039',\n",
       "  '12846',\n",
       "  '21885',\n",
       "  '45150',\n",
       "  '\\n'],\n",
       " ['청라', '일반', '5323', '0', '5323', '5121', '0', '5121', '10444', '\\n'],\n",
       " ['영종', '일반', '1869', '0', '1869', '1831', '0', '1831', '3700', '\\n'],\n",
       " ['운서', '일반', '5724', '0', '5724', '5795', '0', '5795', '11519', '\\n'],\n",
       " ['화물청사', '일반', '2619', '0', '2619', '2899', '0', '2899', '5518', '\\n'],\n",
       " ['인천공항', '일반', '14988', '0', '14988', '14072', '0', '14072', '29060', '\\n'],\n",
       " ['\\n']]"
      ]
     },
     "execution_count": 27,
     "metadata": {},
     "output_type": "execute_result"
    }
   ],
   "source": [
    "a"
   ]
  },
  {
   "cell_type": "code",
   "execution_count": null,
   "metadata": {},
   "outputs": [],
   "source": []
  },
  {
   "cell_type": "code",
   "execution_count": null,
   "metadata": {},
   "outputs": [],
   "source": []
  },
  {
   "cell_type": "code",
   "execution_count": null,
   "metadata": {
    "collapsed": true
   },
   "outputs": [],
   "source": []
  }
 ],
 "metadata": {
  "kernelspec": {
   "display_name": "Python 3",
   "language": "python",
   "name": "python3"
  },
  "language_info": {
   "codemirror_mode": {
    "name": "ipython",
    "version": 3
   },
   "file_extension": ".py",
   "mimetype": "text/x-python",
   "name": "python",
   "nbconvert_exporter": "python",
   "pygments_lexer": "ipython3",
   "version": "3.6.0"
  }
 },
 "nbformat": 4,
 "nbformat_minor": 2
}
