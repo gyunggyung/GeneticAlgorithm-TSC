{
 "cells": [
  {
   "cell_type": "code",
   "execution_count": 59,
   "metadata": {
    "collapsed": true
   },
   "outputs": [],
   "source": [
    "import random\n",
    "import math\n",
    "import re\n",
    "\n",
    "# 리스트 크기\n",
    "listN = 8\n",
    "# 염색체 해집단 수\n",
    "N = 14\n",
    "\n",
    "#교차율\n",
    "Pc = 0.7\n",
    "#변이율\n",
    "Pm = 0.001\n",
    "\n",
    "def decoding(X, Y=0):\n",
    "    #2번째 값부터 2진수를 10진수 화 (0부터 시작 -1, 처음값 제외 -1)\n",
    "    for i, x in enumerate(X[1:]):\n",
    "        Y += x* math.pow(2, listN -i -2)\n",
    "    #처음 값이 0이면 음수로 return\n",
    "    if X[0] == 0: return -Y\n",
    "    return Y"
   ]
  },
  {
   "cell_type": "code",
   "execution_count": 60,
   "metadata": {
    "collapsed": true
   },
   "outputs": [],
   "source": [
    "def Readtxt(fname):\n",
    "    #파일을 2차원 배열로 바꿔주기\n",
    "    w = []\n",
    "    with open(fname, 'r') as f :\n",
    "        for line in f: #for each line in the file,\n",
    "            w.append(line.split('\\t'))\n",
    "    return w"
   ]
  },
  {
   "cell_type": "code",
   "execution_count": 61,
   "metadata": {
    "collapsed": true
   },
   "outputs": [],
   "source": [
    "def ScoreFunction(X):\n",
    "    \"\"\"\n",
    "    X에 속도 리스트를 넣어서 평가\n",
    "    \"\"\"\n",
    "    AirportNum = Readtxt('data/Number-of-train-people.txt')\n",
    "    AirportTime = Readtxt('data/Time-of-airport-train.txt')\n",
    "    AtherTime = Readtxt('data/Time-of-ather-train.txt')\n",
    "    sp = decoding(X)\n",
    "    return 777 - (6 * sp)"
   ]
  },
  {
   "cell_type": "code",
   "execution_count": null,
   "metadata": {
    "collapsed": true
   },
   "outputs": [],
   "source": [
    "def New_ScoreFunction(X):\n",
    "    #여기다 바꾼 거를 만들면 됩니다."
   ]
  },
  {
   "cell_type": "code",
   "execution_count": 62,
   "metadata": {},
   "outputs": [
    {
     "data": {
      "text/plain": [
       "[[0, 0, 0, 0, 1, 0, 0, 1],\n",
       " [0, 0, 1, 1, 0, 1, 1, 1],\n",
       " [1, 0, 1, 1, 1, 1, 1, 0],\n",
       " [1, 1, 1, 0, 0, 1, 1, 0],\n",
       " [0, 0, 0, 0, 0, 1, 0, 0],\n",
       " [1, 1, 1, 0, 1, 0, 0, 1],\n",
       " [0, 1, 1, 0, 1, 1, 0, 0],\n",
       " [0, 1, 0, 0, 1, 0, 1, 1],\n",
       " [1, 0, 0, 0, 1, 0, 1, 1],\n",
       " [0, 0, 0, 0, 0, 0, 1, 0],\n",
       " [0, 0, 0, 1, 1, 0, 1, 0],\n",
       " [1, 1, 0, 0, 1, 0, 0, 1],\n",
       " [1, 0, 1, 1, 1, 1, 1, 1],\n",
       " [0, 1, 1, 1, 1, 0, 0, 1]]"
      ]
     },
     "execution_count": 62,
     "metadata": {},
     "output_type": "execute_result"
    }
   ],
   "source": [
    "#초기값\n",
    "speedlist = [[random.choice([0,1]) for i in range(listN)]for j in range(N)]\n",
    "speedlist"
   ]
  },
  {
   "cell_type": "code",
   "execution_count": null,
   "metadata": {
    "collapsed": true
   },
   "outputs": [],
   "source": []
  },
  {
   "cell_type": "code",
   "execution_count": 63,
   "metadata": {},
   "outputs": [
    {
     "data": {
      "text/plain": [
       "[[[0, 0, 0, 0, 1, 0, 0, 1], -9.0, 831.0, 0.07707289927657207],\n",
       " [[0, 0, 1, 1, 0, 1, 1, 1], -55.0, 1107.0, 0.17974401780745689],\n",
       " [[1, 0, 1, 1, 1, 1, 1, 0], 62.0, 405.0, 0.2173066221480245],\n",
       " [[1, 1, 1, 0, 0, 1, 1, 0], 102.0, 165.0, 0.23260990539788537],\n",
       " [[0, 0, 0, 0, 0, 1, 0, 0], -4.0, 801.0, 0.3069003895381191],\n",
       " [[1, 1, 1, 0, 1, 0, 0, 1], 105.0, 147.0, 0.32053422370617696],\n",
       " [[0, 1, 1, 0, 1, 1, 0, 0], -108.0, 1425.0, 0.4526989426822482],\n",
       " [[0, 1, 0, 0, 1, 0, 1, 1], -75.0, 1227.0, 0.5664997217584864],\n",
       " [[1, 0, 0, 0, 1, 0, 1, 1], 11.0, 711.0, 0.632442960489705],\n",
       " [[0, 0, 0, 0, 0, 0, 1, 0], -2.0, 789.0, 0.7056204785754034],\n",
       " [[0, 0, 0, 1, 1, 0, 1, 0], -26.0, 933.0, 0.7921535893155258],\n",
       " [[1, 1, 0, 0, 1, 0, 0, 1], 73.0, 339.0, 0.823594880356149],\n",
       " [[1, 0, 1, 1, 1, 1, 1, 1], 63.0, 399.0, 0.860601001669449],\n",
       " [[0, 1, 1, 1, 1, 0, 0, 1], -121.0, 1503.0, 0.9999999999999999]]"
      ]
     },
     "execution_count": 63,
     "metadata": {},
     "output_type": "execute_result"
    }
   ],
   "source": [
    "# 여기서 부터 세대 돌리게 만들어야 됨\n",
    "\n",
    "def Group_assessment(speedlist):\n",
    "    #speedlist, decoding값, 염색체 적합도, 적합도 비율\n",
    "    speedlist_evaluation = [[speedlist[i], decoding(speedlist[i]), ScoreFunction(speedlist[i]), 0] for i in range(N)]\n",
    "    # 적합도 비율 찾기\n",
    "    # (각자의 값+이전값 총합)/총합\n",
    "    Sum_of_fitness = 0\n",
    "    for i in range(N): \n",
    "        Sum_of_fitness += speedlist_evaluation[i][2]\n",
    "    for i in range(N):\n",
    "        if i == 0:\n",
    "            speedlist_evaluation[i][3] = speedlist_evaluation[i][2]/Sum_of_fitness\n",
    "        else:\n",
    "            speedlist_evaluation[i][3] = speedlist_evaluation[i-1][3]  + speedlist_evaluation[i][2]/Sum_of_fitness\n",
    "    return speedlist_evaluation\n",
    "\n",
    "Group_assessment_value = Group_assessment(speedlist)\n",
    "Group_assessment_value"
   ]
  },
  {
   "cell_type": "code",
   "execution_count": 64,
   "metadata": {},
   "outputs": [
    {
     "name": "stdout",
     "output_type": "stream",
     "text": [
      "0.15560192877129997 1\n",
      "0.00984542571205016 0\n",
      "0.6466111049290771 9\n",
      "0.5688437636102637 8\n",
      "0.18803999562449858 2\n",
      "0.5081031296646654 7\n",
      "0.22379517729175824 3\n",
      "0.4166948689247384 6\n",
      "0.3350894364792881 6\n",
      "0.3694379098611954 6\n",
      "0.5096902710455521 7\n",
      "0.4357133250365586 6\n",
      "0.6113051713226602 8\n",
      "0.0032108835769452115 0\n",
      "선택 값 :  [1, 0, 9, 8, 2, 7, 3, 6, 6, 6, 7, 6, 8, 0]\n",
      "[0, 0, 1, 1, 0, 1, 1, 1]\n",
      "[0, 0, 0, 0, 1, 0, 0, 1]\n",
      "[0, 0, 0, 0, 0, 0, 1, 0]\n",
      "[1, 0, 0, 0, 1, 0, 1, 1]\n",
      "[1, 0, 1, 1, 1, 1, 1, 0]\n",
      "[0, 1, 0, 0, 1, 0, 1, 1]\n",
      "[1, 1, 1, 0, 0, 1, 1, 0]\n",
      "[0, 1, 1, 0, 1, 1, 0, 0]\n",
      "[0, 1, 1, 0, 1, 1, 0, 0]\n",
      "[0, 1, 1, 0, 1, 1, 0, 0]\n",
      "[0, 1, 0, 0, 1, 0, 1, 1]\n",
      "[0, 1, 1, 0, 1, 1, 0, 0]\n",
      "[1, 0, 0, 0, 1, 0, 1, 1]\n",
      "[0, 0, 0, 0, 1, 0, 0, 1]\n"
     ]
    }
   ],
   "source": [
    "# 0 ~ 100 룰랫 돌려서 이전 값과 자신 사이에 있으면 선택\n",
    "def roulettes(Group_assessment_value):\n",
    "    roulette = random.random()\n",
    "    for i in range(N):\n",
    "        if i == 0:\n",
    "            if 0 < roulette < Group_assessment_value[i][3]:\n",
    "                break\n",
    "        if Group_assessment_value[i-1][3] < roulette < Group_assessment_value[i][3]:\n",
    "            break\n",
    "    print(roulette, i)\n",
    "    return i\n",
    "\n",
    "Selected_list_in_roulette = []\n",
    "\n",
    "for i in range(N):\n",
    "    Selected_list_in_roulette.append(roulettes(Group_assessment_value))\n",
    "\n",
    "print(\"선택 값 : \",Selected_list_in_roulette)\n",
    "\n",
    "for slist in Selected_list_in_roulette:\n",
    "    print(speedlist[slist])"
   ]
  },
  {
   "cell_type": "code",
   "execution_count": 65,
   "metadata": {},
   "outputs": [
    {
     "name": "stdout",
     "output_type": "stream",
     "text": [
      "0 [[0, 0, 1, 1, 0, 1, 0, 1], [0, 0, 0, 0, 1, 0, 1, 1]]\n",
      "1 [[0, 0, 1, 1, 0, 1, 0, 1], [0, 0, 0, 0, 1, 0, 1, 1], [0, 0, 0, 0, 0, 0, 1, 0], [0, 0, 0, 0, 1, 0, 0, 1]]\n",
      "2 [[0, 0, 1, 1, 0, 1, 0, 1], [0, 0, 0, 0, 1, 0, 1, 1], [0, 0, 0, 0, 0, 0, 1, 0], [0, 0, 0, 0, 1, 0, 0, 1], [0, 0, 0, 0, 1, 0, 1, 1], [1, 0, 0, 0, 0, 0, 1, 0]]\n",
      "3 [[0, 0, 1, 1, 0, 1, 0, 1], [0, 0, 0, 0, 1, 0, 1, 1], [0, 0, 0, 0, 0, 0, 1, 0], [0, 0, 0, 0, 1, 0, 0, 1], [0, 0, 0, 0, 1, 0, 1, 1], [1, 0, 0, 0, 0, 0, 1, 0], [1, 0, 0, 0, 1, 0, 1, 0], [1, 0, 1, 1, 1, 1, 1, 1]]\n",
      "4 [[0, 0, 1, 1, 0, 1, 0, 1], [0, 0, 0, 0, 1, 0, 1, 1], [0, 0, 0, 0, 0, 0, 1, 0], [0, 0, 0, 0, 1, 0, 0, 1], [0, 0, 0, 0, 1, 0, 1, 1], [1, 0, 0, 0, 0, 0, 1, 0], [1, 0, 0, 0, 1, 0, 1, 0], [1, 0, 1, 1, 1, 1, 1, 1], [1, 0, 1, 1, 1, 1, 1, 1], [0, 1, 0, 0, 1, 0, 1, 0]]\n",
      "5 [[0, 0, 1, 1, 0, 1, 0, 1], [0, 0, 0, 0, 1, 0, 1, 1], [0, 0, 0, 0, 0, 0, 1, 0], [0, 0, 0, 0, 1, 0, 0, 1], [0, 0, 0, 0, 1, 0, 1, 1], [1, 0, 0, 0, 0, 0, 1, 0], [1, 0, 0, 0, 1, 0, 1, 0], [1, 0, 1, 1, 1, 1, 1, 1], [1, 0, 1, 1, 1, 1, 1, 1], [0, 1, 0, 0, 1, 0, 1, 0], [0, 1, 0, 0, 0, 1, 1, 0], [1, 1, 1, 0, 1, 0, 1, 1]]\n",
      "6 [[0, 0, 1, 1, 0, 1, 0, 1], [0, 0, 0, 0, 1, 0, 1, 1], [0, 0, 0, 0, 0, 0, 1, 0], [0, 0, 0, 0, 1, 0, 0, 1], [0, 0, 0, 0, 1, 0, 1, 1], [1, 0, 0, 0, 0, 0, 1, 0], [1, 0, 0, 0, 1, 0, 1, 0], [1, 0, 1, 1, 1, 1, 1, 1], [1, 0, 1, 1, 1, 1, 1, 1], [0, 1, 0, 0, 1, 0, 1, 0], [0, 1, 0, 0, 0, 1, 1, 0], [1, 1, 1, 0, 1, 0, 1, 1], [1, 1, 1, 0, 1, 1, 0, 0], [0, 1, 1, 0, 0, 1, 1, 0]]\n",
      "0 1095.0 [0, 0, 1, 1, 0, 1, 0, 1]\n",
      "1 843.0 [0, 0, 0, 0, 1, 0, 1, 1]\n",
      "2 789.0 [0, 0, 0, 0, 0, 0, 1, 0]\n",
      "3 831.0 [0, 0, 0, 0, 1, 0, 0, 1]\n",
      "4 843.0 [0, 0, 0, 0, 1, 0, 1, 1]\n",
      "5 765.0 [1, 0, 0, 0, 0, 0, 1, 0]\n",
      "6 717.0 [1, 0, 0, 0, 1, 0, 1, 0]\n",
      "7 399.0 [1, 0, 1, 1, 1, 1, 1, 1]\n",
      "8 399.0 [1, 0, 1, 1, 1, 1, 1, 1]\n",
      "9 1221.0 [0, 1, 0, 0, 1, 0, 1, 0]\n",
      "10 1197.0 [0, 1, 0, 0, 0, 1, 1, 0]\n",
      "11 135.0 [1, 1, 1, 0, 1, 0, 1, 1]\n",
      "12 129.0 [1, 1, 1, 0, 1, 1, 0, 0]\n",
      "13 1389.0 [0, 1, 1, 0, 0, 1, 1, 0]\n"
     ]
    }
   ],
   "source": [
    "#부모 변경\n",
    "def Change_parent(speedlist, Selected_list_in_roulette):\n",
    "    W = []\n",
    "    # 교차함수 및 변이함수 (자식만들기)\n",
    "    for i in range(int(N/2)):\n",
    "        selection = random.random()\n",
    "        if selection < Pc:\n",
    "            rand = random.choice([i+1 for i in range(listN-1)]) # 0~ 이구간, 이구간 ~ 끝 교차 , 이구간 = 1~리스트 크기 -1 \n",
    "            \n",
    "            # W(교차된 자식) = Selected_list_in_roulette(선택된 리스트에서) rand구간으로 나눈 값\n",
    "            W.append(speedlist[Selected_list_in_roulette[i]][0:rand] + speedlist[Selected_list_in_roulette[i+1]][rand:])\n",
    "            W.append(speedlist[Selected_list_in_roulette[i+1]][0:rand] + speedlist[Selected_list_in_roulette[i]][rand:])\n",
    "            print(i, W)\n",
    "        else:\n",
    "            W.append(speedlist[Selected_list_in_roulette[i]])\n",
    "            W.append(speedlist[Selected_list_in_roulette[i+1]])\n",
    "            print(i, W)\n",
    "    return W\n",
    "\n",
    "New_list = Change_parent(speedlist, Selected_list_in_roulette)\n",
    "\n",
    "#얼마나 잘됐는지 확인\n",
    "for i, nl in enumerate(New_list):\n",
    "    print(i, ScoreFunction(nl), nl)\n",
    "    "
   ]
  },
  {
   "cell_type": "code",
   "execution_count": 58,
   "metadata": {},
   "outputs": [
    {
     "data": {
      "text/plain": [
       "[1, 2, 3]"
      ]
     },
     "execution_count": 58,
     "metadata": {},
     "output_type": "execute_result"
    }
   ],
   "source": [
    "kk = 4\n",
    "a = [i+1 for i in range(kk-1)]\n",
    "#a = [i+1 for i in range(kk-1)] \n",
    "a"
   ]
  },
  {
   "cell_type": "code",
   "execution_count": 87,
   "metadata": {},
   "outputs": [
    {
     "data": {
      "text/plain": [
       "0.056451612903225805"
      ]
     },
     "execution_count": 87,
     "metadata": {},
     "output_type": "execute_result"
    }
   ],
   "source": []
  },
  {
   "cell_type": "code",
   "execution_count": null,
   "metadata": {
    "collapsed": true
   },
   "outputs": [],
   "source": []
  },
  {
   "cell_type": "code",
   "execution_count": null,
   "metadata": {
    "collapsed": true
   },
   "outputs": [],
   "source": []
  },
  {
   "cell_type": "code",
   "execution_count": null,
   "metadata": {
    "collapsed": true
   },
   "outputs": [],
   "source": []
  },
  {
   "cell_type": "code",
   "execution_count": 2,
   "metadata": {
    "collapsed": true
   },
   "outputs": [],
   "source": [
    "a = Readtxt( 'data/Number-of-train-people.txt')"
   ]
  },
  {
   "cell_type": "code",
   "execution_count": 3,
   "metadata": {},
   "outputs": [
    {
     "data": {
      "text/plain": [
       "'17683'"
      ]
     },
     "execution_count": 3,
     "metadata": {},
     "output_type": "execute_result"
    }
   ],
   "source": [
    "a[0][3]"
   ]
  },
  {
   "cell_type": "code",
   "execution_count": 4,
   "metadata": {},
   "outputs": [
    {
     "data": {
      "text/plain": [
       "[['서울',\n",
       "  '일반',\n",
       "  '9516',\n",
       "  '17683',\n",
       "  '27199',\n",
       "  '8170',\n",
       "  '18430',\n",
       "  '26600',\n",
       "  '53799',\n",
       "  '\\n'],\n",
       " ['공덕',\n",
       "  '일반',\n",
       "  '1674',\n",
       "  '12842',\n",
       "  '14516',\n",
       "  '2140',\n",
       "  '13366',\n",
       "  '15506',\n",
       "  '30022',\n",
       "  '\\n'],\n",
       " ['홍대',\n",
       "  '일반',\n",
       "  '9088',\n",
       "  '19332',\n",
       "  '28420',\n",
       "  '9007',\n",
       "  '21731',\n",
       "  '30738',\n",
       "  '59158',\n",
       "  '\\n'],\n",
       " ['미디어시티',\n",
       "  '일반',\n",
       "  '11639',\n",
       "  '11423',\n",
       "  '23062',\n",
       "  '10200',\n",
       "  '12101',\n",
       "  '22301',\n",
       "  '45363',\n",
       "  '\\n'],\n",
       " ['김포공항',\n",
       "  '일반',\n",
       "  '10393',\n",
       "  '30080',\n",
       "  '40473',\n",
       "  '6548',\n",
       "  '34747',\n",
       "  '41295',\n",
       "  '81768',\n",
       "  '\\n'],\n",
       " ['계양',\n",
       "  '일반',\n",
       "  '10865',\n",
       "  '18624',\n",
       "  '29489',\n",
       "  '10130',\n",
       "  '18776',\n",
       "  '28906',\n",
       "  '58395',\n",
       "  '\\n'],\n",
       " ['검암',\n",
       "  '일반',\n",
       "  '9144',\n",
       "  '14121',\n",
       "  '23265',\n",
       "  '9039',\n",
       "  '12846',\n",
       "  '21885',\n",
       "  '45150',\n",
       "  '\\n'],\n",
       " ['청라', '일반', '5323', '0', '5323', '5121', '0', '5121', '10444', '\\n'],\n",
       " ['영종', '일반', '1869', '0', '1869', '1831', '0', '1831', '3700', '\\n'],\n",
       " ['운서', '일반', '5724', '0', '5724', '5795', '0', '5795', '11519', '\\n'],\n",
       " ['화물청사', '일반', '2619', '0', '2619', '2899', '0', '2899', '5518', '\\n'],\n",
       " ['인천공항', '일반', '14988', '0', '14988', '14072', '0', '14072', '29060', '\\n'],\n",
       " ['\\n']]"
      ]
     },
     "execution_count": 4,
     "metadata": {},
     "output_type": "execute_result"
    }
   ],
   "source": [
    "a"
   ]
  },
  {
   "cell_type": "code",
   "execution_count": null,
   "metadata": {
    "collapsed": true
   },
   "outputs": [],
   "source": []
  },
  {
   "cell_type": "code",
   "execution_count": null,
   "metadata": {
    "collapsed": true
   },
   "outputs": [],
   "source": []
  },
  {
   "cell_type": "code",
   "execution_count": null,
   "metadata": {
    "collapsed": true
   },
   "outputs": [],
   "source": []
  }
 ],
 "metadata": {
  "kernelspec": {
   "display_name": "Python 3",
   "language": "python",
   "name": "python3"
  },
  "language_info": {
   "codemirror_mode": {
    "name": "ipython",
    "version": 3
   },
   "file_extension": ".py",
   "mimetype": "text/x-python",
   "name": "python",
   "nbconvert_exporter": "python",
   "pygments_lexer": "ipython3",
   "version": "3.6.0"
  }
 },
 "nbformat": 4,
 "nbformat_minor": 2
}
