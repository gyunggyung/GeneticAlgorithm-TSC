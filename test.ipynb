{
 "cells": [
  {
   "cell_type": "code",
   "execution_count": 30,
   "metadata": {
    "collapsed": true
   },
   "outputs": [],
   "source": [
    "import random\n",
    "import math\n",
    "import re\n",
    "\n",
    "# 리스트 크기\n",
    "listN = 4\n",
    "# 염색체 해집단 수\n",
    "N = 8\n",
    "#교차율\n",
    "Pc = 0.7\n",
    "#변이율\n",
    "Pm = 0.001\n",
    "\n",
    "def decoding(X, Y=0):\n",
    "    #2번째 값부터 2진수를 10진수 화 (0부터 시작 -1, 처음값 제외 -1)\n",
    "    for i, x in enumerate(X[1:]):\n",
    "        Y += x* math.pow(2, listN -i -2)\n",
    "    #처음 값이 0이면 음수로 return\n",
    "    if X[0] == 0: return -Y\n",
    "    return Y"
   ]
  },
  {
   "cell_type": "code",
   "execution_count": 24,
   "metadata": {
    "collapsed": true
   },
   "outputs": [],
   "source": [
    "def Readtxt(fname):\n",
    "    #파일을 2차원 배열로 바꿔주기\n",
    "    w = []\n",
    "    with open(fname, 'r') as f :\n",
    "        for line in f: #for each line in the file,\n",
    "            w.append(line.split('\\t'))\n",
    "    return w"
   ]
  },
  {
   "cell_type": "code",
   "execution_count": null,
   "metadata": {
    "collapsed": true
   },
   "outputs": [],
   "source": [
    "def ScoreFunction(X):\n",
    "    \"\"\"\n",
    "    X에 속도 리스트를 넣어서 평가\n",
    "    \"\"\"\n",
    "    AirportNum = Readtxt('data/Number-of-train-people.txt')\n",
    "    AirportTime = Readtxt('data/Time-of-airport-train.txt')\n",
    "    AtherTime = Readtxt('data/Time-of-ather-train.txt')\n",
    "    "
   ]
  },
  {
   "cell_type": "code",
   "execution_count": 36,
   "metadata": {},
   "outputs": [
    {
     "data": {
      "text/plain": [
       "1"
      ]
     },
     "execution_count": 36,
     "metadata": {},
     "output_type": "execute_result"
    }
   ],
   "source": [
    "\n",
    "s = random.choice([0,1])\n",
    "s"
   ]
  },
  {
   "cell_type": "code",
   "execution_count": 43,
   "metadata": {},
   "outputs": [
    {
     "data": {
      "text/plain": [
       "[[0, 1, 1, 0],\n",
       " [0, 0, 1, 0],\n",
       " [0, 0, 1, 0],\n",
       " [0, 0, 0, 0],\n",
       " [1, 1, 1, 0],\n",
       " [1, 1, 1, 0],\n",
       " [1, 0, 0, 0],\n",
       " [0, 0, 0, 0]]"
      ]
     },
     "execution_count": 43,
     "metadata": {},
     "output_type": "execute_result"
    }
   ],
   "source": [
    "#초기값\n",
    "speedlist = [[random.choice([0,1]) for i in range(listN)]for j in range(N)]\n",
    "speedlist"
   ]
  },
  {
   "cell_type": "code",
   "execution_count": 40,
   "metadata": {},
   "outputs": [
    {
     "data": {
      "text/plain": [
       "[0, 1, 0, 1]"
      ]
     },
     "execution_count": 40,
     "metadata": {},
     "output_type": "execute_result"
    }
   ],
   "source": [
    "a"
   ]
  },
  {
   "cell_type": "code",
   "execution_count": null,
   "metadata": {
    "collapsed": true
   },
   "outputs": [],
   "source": []
  },
  {
   "cell_type": "code",
   "execution_count": null,
   "metadata": {
    "collapsed": true
   },
   "outputs": [],
   "source": []
  },
  {
   "cell_type": "code",
   "execution_count": 25,
   "metadata": {},
   "outputs": [],
   "source": [
    "a = ReadTxt( 'data/Number-of-train-people.txt')"
   ]
  },
  {
   "cell_type": "code",
   "execution_count": 26,
   "metadata": {},
   "outputs": [
    {
     "data": {
      "text/plain": [
       "'17683'"
      ]
     },
     "execution_count": 26,
     "metadata": {},
     "output_type": "execute_result"
    }
   ],
   "source": [
    "a[0][3]"
   ]
  },
  {
   "cell_type": "code",
   "execution_count": 27,
   "metadata": {},
   "outputs": [
    {
     "data": {
      "text/plain": [
       "[['서울',\n",
       "  '일반',\n",
       "  '9516',\n",
       "  '17683',\n",
       "  '27199',\n",
       "  '8170',\n",
       "  '18430',\n",
       "  '26600',\n",
       "  '53799',\n",
       "  '\\n'],\n",
       " ['공덕',\n",
       "  '일반',\n",
       "  '1674',\n",
       "  '12842',\n",
       "  '14516',\n",
       "  '2140',\n",
       "  '13366',\n",
       "  '15506',\n",
       "  '30022',\n",
       "  '\\n'],\n",
       " ['홍대',\n",
       "  '일반',\n",
       "  '9088',\n",
       "  '19332',\n",
       "  '28420',\n",
       "  '9007',\n",
       "  '21731',\n",
       "  '30738',\n",
       "  '59158',\n",
       "  '\\n'],\n",
       " ['미디어시티',\n",
       "  '일반',\n",
       "  '11639',\n",
       "  '11423',\n",
       "  '23062',\n",
       "  '10200',\n",
       "  '12101',\n",
       "  '22301',\n",
       "  '45363',\n",
       "  '\\n'],\n",
       " ['김포공항',\n",
       "  '일반',\n",
       "  '10393',\n",
       "  '30080',\n",
       "  '40473',\n",
       "  '6548',\n",
       "  '34747',\n",
       "  '41295',\n",
       "  '81768',\n",
       "  '\\n'],\n",
       " ['계양',\n",
       "  '일반',\n",
       "  '10865',\n",
       "  '18624',\n",
       "  '29489',\n",
       "  '10130',\n",
       "  '18776',\n",
       "  '28906',\n",
       "  '58395',\n",
       "  '\\n'],\n",
       " ['검암',\n",
       "  '일반',\n",
       "  '9144',\n",
       "  '14121',\n",
       "  '23265',\n",
       "  '9039',\n",
       "  '12846',\n",
       "  '21885',\n",
       "  '45150',\n",
       "  '\\n'],\n",
       " ['청라', '일반', '5323', '0', '5323', '5121', '0', '5121', '10444', '\\n'],\n",
       " ['영종', '일반', '1869', '0', '1869', '1831', '0', '1831', '3700', '\\n'],\n",
       " ['운서', '일반', '5724', '0', '5724', '5795', '0', '5795', '11519', '\\n'],\n",
       " ['화물청사', '일반', '2619', '0', '2619', '2899', '0', '2899', '5518', '\\n'],\n",
       " ['인천공항', '일반', '14988', '0', '14988', '14072', '0', '14072', '29060', '\\n'],\n",
       " ['\\n']]"
      ]
     },
     "execution_count": 27,
     "metadata": {},
     "output_type": "execute_result"
    }
   ],
   "source": [
    "a"
   ]
  },
  {
   "cell_type": "code",
   "execution_count": null,
   "metadata": {},
   "outputs": [],
   "source": []
  },
  {
   "cell_type": "code",
   "execution_count": null,
   "metadata": {},
   "outputs": [],
   "source": []
  },
  {
   "cell_type": "code",
   "execution_count": null,
   "metadata": {
    "collapsed": true
   },
   "outputs": [],
   "source": []
  }
 ],
 "metadata": {
  "kernelspec": {
   "display_name": "Python 3",
   "language": "python",
   "name": "python3"
  },
  "language_info": {
   "codemirror_mode": {
    "name": "ipython",
    "version": 3
   },
   "file_extension": ".py",
   "mimetype": "text/x-python",
   "name": "python",
   "nbconvert_exporter": "python",
   "pygments_lexer": "ipython3",
   "version": "3.6.0"
  }
 },
 "nbformat": 4,
 "nbformat_minor": 2
}
