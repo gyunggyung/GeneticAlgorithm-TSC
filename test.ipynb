{
 "cells": [
  {
   "cell_type": "code",
   "execution_count": 41,
   "metadata": {
    "collapsed": true
   },
   "outputs": [],
   "source": [
    "import random\n",
    "import math\n",
    "\n",
    "\"\"\"\n",
    "\n",
    "이런식으로 함수로해서\n",
    "dict_boost = parse_weight(dict_dir + 'BoosterWordList.txt')\n",
    "dict_negate = parse_negate(dict_dir + 'NegatingWordList.txt')\n",
    "\n",
    "여기있는 것들에 맞게 하면 되겠네\n",
    "'data/Number-of-train-people.txt'\n",
    "'data/Time-of-airport-train.txt'\n",
    "'data/Time-of-ather-train.txt'\n",
    "\"\"\"\n",
    "\n",
    "\n",
    "# 리스트 크기\n",
    "listN = 4\n",
    "# 염색체 해집단 수\n",
    "N = 8\n",
    "#교차율\n",
    "Pc = 0.7\n",
    "#변이율\n",
    "Pm = 0.001\n",
    "\n",
    "def decoding(X, Y=0):\n",
    "    #2번째 값부터 2진수를 10진수 화 (0부터 시작 -1, 처음값 제외 -1)\n",
    "    for i, x in enumerate(X[1:]):\n",
    "        Y += x* math.pow(2, listN -i -2)\n",
    "    #처음 값이 0이면 음수로 return\n",
    "    if X[0] == 0: return -Y\n",
    "    return Y\n",
    "\n",
    "\n",
    "        "
   ]
  },
  {
   "cell_type": "code",
   "execution_count": 39,
   "metadata": {
    "collapsed": true
   },
   "outputs": [],
   "source": [
    "a = [0,1,0,0]"
   ]
  },
  {
   "cell_type": "code",
   "execution_count": 40,
   "metadata": {},
   "outputs": [
    {
     "data": {
      "text/plain": [
       "-4.0"
      ]
     },
     "execution_count": 40,
     "metadata": {},
     "output_type": "execute_result"
    }
   ],
   "source": [
    "decoding(a)"
   ]
  },
  {
   "cell_type": "code",
   "execution_count": 44,
   "metadata": {},
   "outputs": [
    {
     "data": {
      "text/plain": [
       "111"
      ]
     },
     "execution_count": 44,
     "metadata": {},
     "output_type": "execute_result"
    }
   ],
   "source": [
    "123 +-12"
   ]
  },
  {
   "cell_type": "code",
   "execution_count": null,
   "metadata": {
    "collapsed": true
   },
   "outputs": [],
   "source": []
  }
 ],
 "metadata": {
  "kernelspec": {
   "display_name": "Python 3",
   "language": "python",
   "name": "python3"
  },
  "language_info": {
   "codemirror_mode": {
    "name": "ipython",
    "version": 3
   },
   "file_extension": ".py",
   "mimetype": "text/x-python",
   "name": "python",
   "nbconvert_exporter": "python",
   "pygments_lexer": "ipython3",
   "version": "3.6.0"
  }
 },
 "nbformat": 4,
 "nbformat_minor": 2
}
