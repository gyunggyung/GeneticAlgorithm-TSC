{
 "cells": [
  {
   "cell_type": "markdown",
   "metadata": {},
   "source": [
    "```\n",
    "\n",
    "| ---- | ---- | ---- | ---- | ---- | ---- | ---- | ---- | ---- | ---- | ---- |  열차 하나 \n",
    "| ---- | ---- | ---- | ---- | ---- | ---- | ---- | ---- | ---- | ---- | ---- |\n",
    "| ---- | ---- | ---- | ---- | ---- | ---- | ---- | ---- | ---- | ---- | ---- |\n",
    "| ---- | ---- | ---- | ---- | ---- | ---- | ---- | ---- | ---- | ---- | ---- |\n",
    "| ---- | ---- | ---- | ---- | ---- | ---- | ---- | ---- | ---- | ---- | ---- |\n",
    "                            .\n",
    "                            .\n",
    "                            .\n",
    "                            .\n",
    "                            .\n",
    "| ---- | ---- | ---- | ---- | ---- | ---- | ---- | ---- | ---- | ---- | ---- |  열차 백 \n",
    "\n",
    "```\n",
    "\n",
    "전체 구간에 대해 유전 알고리즘을 적용시킴니다."
   ]
  },
  {
   "cell_type": "code",
   "execution_count": null,
   "metadata": {
    "collapsed": true
   },
   "outputs": [],
   "source": []
  },
  {
   "cell_type": "code",
   "execution_count": 250,
   "metadata": {
    "collapsed": true
   },
   "outputs": [],
   "source": [
    "# import 및 변수정의 구간\n",
    "import random\n",
    "import math\n",
    "import re\n",
    "import operator \n",
    "from random import randint\n",
    "\n",
    "# 리스트 크기\n",
    "listN = 8\n",
    "\n",
    "# 염색체 해집단 수\n",
    "N = 50\n",
    "\n",
    "# 역 구간\n",
    "Station_section = 11\n",
    "\n",
    "# 하루에 운행하는 열차 수\n",
    "One_day_train = 100\n",
    "\n",
    "#교차율\n",
    "Pc = 0.7\n",
    "\n",
    "#변이율 역수 관계\n",
    "Pm = 100\n",
    "\n",
    "#마지막 세대수 \n",
    "largest_generation = 5\n",
    "\n",
    "#보존할 상위값\n",
    "save_value = 5\n",
    "\n",
    "choice_list = [i+1 for i in range(listN-1)]\n"
   ]
  },
  {
   "cell_type": "code",
   "execution_count": 251,
   "metadata": {
    "collapsed": true
   },
   "outputs": [],
   "source": [
    "#초기값\n",
    "speedlist = [[[[random.choice([0,1]) for i in range(listN)]for j in range(Station_section)]for k in range(One_day_train)]for z in range(N)]\n"
   ]
  },
  {
   "cell_type": "code",
   "execution_count": 252,
   "metadata": {
    "collapsed": true
   },
   "outputs": [],
   "source": [
    "# 01010로 이루어진 리스트를 10진수로 디코딩하는 함수\n",
    "\n",
    "def decoding(X, Y=0):\n",
    "    \"\"\"\n",
    "    input   : 0100로 이루어진 리스트\n",
    "    return : 10진수 정수\n",
    "    \"\"\"\n",
    "    for i, x in enumerate(X[1:]):\n",
    "        Y += x* math.pow(2, listN -i -2)\n",
    "    #10나누고 소스점 1자리 표시하는데 왜 \n",
    "    #Y = round(Y/10, 1) \n",
    "    \n",
    "    #처음 값이 0이면 음수로 return\n",
    "    if X[0] == 0: return -Y\n",
    "    return Y"
   ]
  },
  {
   "cell_type": "code",
   "execution_count": 253,
   "metadata": {},
   "outputs": [
    {
     "data": {
      "text/plain": [
       "-103.0"
      ]
     },
     "execution_count": 253,
     "metadata": {},
     "output_type": "execute_result"
    }
   ],
   "source": [
    "decoding([0,1,1,0,0,1,1,1])"
   ]
  },
  {
   "cell_type": "code",
   "execution_count": 254,
   "metadata": {
    "collapsed": true
   },
   "outputs": [],
   "source": [
    "#파일을 2차원 배열로 바꿔주기\n",
    "\n",
    "def Readtxt(fname):\n",
    "    \"\"\"\n",
    "    input  : 파일들\n",
    "    return : 2차원 배열 \n",
    "    \"\"\"\n",
    "    w = []\n",
    "    with open(fname, 'r') as f :\n",
    "        for line in f: #for each line in the file,\n",
    "            w.append(line.split('\\t'))\n",
    "    return w"
   ]
  },
  {
   "cell_type": "code",
   "execution_count": null,
   "metadata": {
    "collapsed": true
   },
   "outputs": [],
   "source": []
  },
  {
   "cell_type": "code",
   "execution_count": 255,
   "metadata": {},
   "outputs": [
    {
     "name": "stdout",
     "output_type": "stream",
     "text": [
      "[984.0, 1320.0, 3576.0, 9096.0, 7752.0, 2664.0, 3672.0, 9816.0, 7176.0, 8808.0, 3480.0]\n",
      "[3912.0, 696.0, 3336.0, 7320.0, 4392.0, 3384.0, 5400.0, 2232.0, 1176.0, 936.0, 12120.0]\n",
      "[1128.0, 9096.0, 11976.0, 6792.0, 5256.0, 9816.0, 5496.0, 3336.0, 7368.0, 1656.0, 7320.0]\n",
      "[2184.0, 6936.0, 6216.0, 9096.0, 10536.0, 3288.0, 11208.0, 9864.0, 1752.0, 4344.0, 3144.0]\n",
      "[5160.0, 9528.0, 9240.0, 12120.0, 3624.0, 504.0, 4488.0, 3912.0, 10680.0, 5160.0, 4824.0]\n",
      "[10776.0, 9336.0, 7608.0, 1992.0, 12264.0, 9144.0, 6072.0, 2520.0, 4968.0, 9384.0, 9960.0]\n",
      "[1512.0, 312.0, 10872.0, 3288.0, 4344.0, 4776.0, 7848.0, 10056.0, 11832.0, 7128.0, 5064.0]\n",
      "[408.0, 1224.0, 11400.0, 3528.0, 3624.0, 7896.0, 1176.0, 2184.0, 8568.0, 4248.0, 10728.0]\n",
      "[5496.0, 7800.0, 4584.0, 9672.0, 2808.0, 10632.0, 10536.0, 10824.0, 11640.0, 11832.0, 3000.0]\n",
      "[11160.0, 888.0, 11976.0, 1752.0, 5448.0, 8328.0, 11208.0, 10296.0, 552.0, 6888.0, 4056.0]\n"
     ]
    }
   ],
   "source": [
    "# 바뀌야됨\n",
    "#                           몇번째 열차인지\n",
    "def ScoreFunction(X):\n",
    "    \"\"\"\n",
    "    X에 속도 리스트를 넣어서 평가\n",
    "    \"\"\"\n",
    "    a =[\"05:25:00\", \"05:20:00\", \"05:40:00\", \"05:50:00\", \"06:00:00\", \"06:07:00\", \"06:15:00\", \"06:21:00\", \"06:30:00\", \"06:35:00\", \"06:40:00\", \"06:47:30\", \"06:56:00\", \"07:00:00\", \"07:04:30\", \"07:11:00\", \"07:14:30\", \"07:21:30\", \"07:30:00\", \"07:35:00\", \"07:37:00\", \"07:42:00\", \"07:47:00\", \"07:57:00\", \"07:58:00\", \"08:01:00\", \"08:07:00\", \"08:13:30\", \"08:20:00\", \"08:25:00\", \"08:28:00\", \"08:34:00\", \"08:41:00\", \"08:45:00\", \"08:50:00\", \"08:56:00\", \"09:00:00\", \"09:03:00\", \"09:10:30\", \"09:15:00\", \"09:21:00\", \"09:29:30\", \"09:36:00\", \"09:40:00\", \"09:45:00\", \"09:49:30\", \"10:01:00\", \"10:01:00\", \"10:02:00\", \"10:10:00\", \"10:16:00\", \"10:20:00\", \"10:29:00\", \"10:36:00\", \"10:40:00\", \"10:45:30\", \"10:50:00\", \"10:56:00\", \"10:58:00\", \"11:06:00\", \"11:11:00\", \"11:17:00\", \"11:25:30\", \"11:30:00\", \"11:33:00\", \"11:39:00\", \"11:47:00\", \"11:55:00\", \"12:00:00\", \"12:02:00\", \"12:07:00\", \"12:11:00\", \"12:19:30\", \"12:30:00\", \"12:32:00\", \"12:36:00\", \"12:41:00\", \"12:48:00\", \"12:56:30\", \"13:00:00\", \"13:09:00\", \"13:15:00\", \"13:20:00\", \"13:30:00\", \"13:33:30\", \"13:47:00\", \"13:47:00\", \"13:47:00\", \"13:55:30\", \"14:00:00\", \"14:02:30\", \"14:07:00\", \"14:11:00\", \"14:17:00\", \"14:25:30\", \"14:30:00\", \"14:34:00\", \"14:40:30\", \"14:44:30\", \"14:55:00\", \"14:55:00\", \"15:01:00\", \"15:05:00\", \"15:11:00\", \"15:18:00\", \"15:25:30\", \"15:30:00\", \"15:39:00\", \"15:45:00\", \"15:50:30\", \"16:00:00\", \"16:03:00\", \"16:09:00\", \"16:17:00\", \"16:25:30\", \"16:30:00\", \"16:33:00\", \"16:38:00\", \"16:46:00\", \"16:51:00\", \"17:02:00\", \"17:02:00\", \"17:10:30\", \"17:15:00\", \"17:20:00\", \"17:25:00\", \"17:32:00\", \"17:38:00\", \"17:45:30\", \"17:50:00\", \"17:54:00\", \"18:01:00\", \"18:10:00\", \"18:16:00\", \"18:20:00\", \"18:26:00\", \"18:30:00\", \"18:33:00\", \"18:39:00\", \"18:44:00\", \"18:51:30\", \"18:56:00\", \"19:01:30\", \"19:05:00\", \"19:14:00\", \"19:14:00\", \"19:18:00\", \"19:24:00\", \"19:29:00\", \"19:40:00\", \"19:46:00\", \"19:50:00\", \"19:54:00\", \"20:01:00\", \"20:06:00\", \"20:12:00\", \"20:17:00\", \"20:25:30\", \"20:30:00\", \"20:32:00\", \"20:38:00\", \"20:44:00\", \"20:51:00\", \"20:57:00\", \"21:06:30\", \"21:10:00\", \"21:13:00\", \"21:22:00\", \"21:24:00\", \"21:30:00\", \"21:37:00\", \"21:46:00\", \"21:50:00\", \"21:52:00\", \"21:56:00\", \"22:00:00\", \"22:07:00\", \"22:16:00\", \"22:20:00\", \"22:23:00\", \"22:28:00\", \"22:36:00\", \"22:44:00\", \"22:52:00\", \"23:00:00\", \"23:10:00\", \"23:20:00\", \"23:30:00\", \"23:40:00\", \"23:50:00\", \"00:00:00\"]\n",
    "    #print(a[X[0] ])\n",
    "    #구간별 점수 (11개죠)\n",
    "    sp = []\n",
    "    for x in (X[1:]):\n",
    "        sp.append(decoding(x))\n",
    "        \n",
    "    test = 0\n",
    "    for i, _ in enumerate(sp):\n",
    "        sp[i] = (777 - (6 * sp[i])) * 8\n",
    "    \n",
    "    return sp\n",
    "\n",
    "for i in range(10):\n",
    "    test_X = ScoreFunction([i] + speedlist[1][i]  )\n",
    "    print(test_X)"
   ]
  },
  {
   "cell_type": "code",
   "execution_count": null,
   "metadata": {
    "collapsed": true
   },
   "outputs": [],
   "source": []
  },
  {
   "cell_type": "code",
   "execution_count": null,
   "metadata": {
    "collapsed": true
   },
   "outputs": [],
   "source": []
  },
  {
   "cell_type": "code",
   "execution_count": null,
   "metadata": {
    "collapsed": true
   },
   "outputs": [],
   "source": []
  },
  {
   "cell_type": "code",
   "execution_count": 256,
   "metadata": {},
   "outputs": [
    {
     "name": "stdout",
     "output_type": "stream",
     "text": [
      "50 100 11 8\n"
     ]
    }
   ],
   "source": [
    "print(len(speedlist), len(speedlist[0]), len(speedlist[0][0]),len(speedlist[0][0][0]))"
   ]
  },
  {
   "cell_type": "code",
   "execution_count": 257,
   "metadata": {
    "collapsed": true
   },
   "outputs": [],
   "source": [
    "#하루 열차의 총합 구하기\n",
    "def Make_Score_per_all(speedlist):\n",
    "    #열차마다 점수                             #30개의 경쟁 100개의 열차\n",
    "    Score_per_train = [[0 for i in range(One_day_train)]for j in range(N)]\n",
    "\n",
    "    # 30개의 경쟁\n",
    "    for k in range(N):\n",
    "        # 100대의 열차\n",
    "        for i in range(One_day_train):\n",
    "            one_tranin = ScoreFunction([i]+speedlist[k][i])\n",
    "            # 11개의 역\n",
    "            for j in range(Station_section):\n",
    "                #각 열차에 대해      += 11개의 구간 \n",
    "                Score_per_train[k][i] += one_tranin[j]\n",
    "\n",
    "\n",
    "    # 하루마다의 점수 \n",
    "    Score_per_all = [0 for i in range(N)]\n",
    "\n",
    "    # 30개의 경쟁            \n",
    "    for i in range(N):\n",
    "        # 100대의 열차\n",
    "        for j in range(One_day_train):\n",
    "             Score_per_all[i] += Score_per_train[i][j]\n",
    "                \n",
    "    return Score_per_all"
   ]
  },
  {
   "cell_type": "code",
   "execution_count": 258,
   "metadata": {
    "scrolled": false
   },
   "outputs": [],
   "source": [
    "#Score_per_all = Make_Score_per_all(speedlist)\n",
    "#Score_per_all"
   ]
  },
  {
   "cell_type": "code",
   "execution_count": 259,
   "metadata": {
    "scrolled": true
   },
   "outputs": [
    {
     "name": "stdout",
     "output_type": "stream",
     "text": [
      "50 100 11 8 총개수 :  440000\n"
     ]
    }
   ],
   "source": [
    "print(len(speedlist), len(speedlist[0]), len(speedlist[0][0]), len(speedlist[0][0][0]),\"총개수 : \" ,len(speedlist) * len(speedlist[0]) * len(speedlist[0][0]) * len(speedlist[0][0][0])\n",
    ")\n"
   ]
  },
  {
   "cell_type": "code",
   "execution_count": 260,
   "metadata": {
    "collapsed": true
   },
   "outputs": [],
   "source": [
    "def Score_assessment_group(Score_per_all):\n",
    "    # 적합도 비율 찾기\n",
    "    speedlist_evaluation = [[Score_per_all[i], 0, i] for i in range(N)]\n",
    "\n",
    "    Sum_of_fitness = 0\n",
    "    for i in range(N): \n",
    "        Sum_of_fitness += Score_per_all[i]\n",
    "    for i in range(N):\n",
    "        if i == 0:\n",
    "            speedlist_evaluation[i][1] = speedlist_evaluation[i][0]/Sum_of_fitness\n",
    "        else:\n",
    "            speedlist_evaluation[i][1] = speedlist_evaluation[i-1][1]  + speedlist_evaluation[i][0]/Sum_of_fitness\n",
    "    \n",
    "    return speedlist_evaluation\n"
   ]
  },
  {
   "cell_type": "code",
   "execution_count": null,
   "metadata": {
    "collapsed": true
   },
   "outputs": [],
   "source": []
  },
  {
   "cell_type": "code",
   "execution_count": 261,
   "metadata": {
    "collapsed": true
   },
   "outputs": [],
   "source": [
    "def roulettes(Group_assessment_value):\n",
    "    roulette = random.random()\n",
    "    for i in range(N):\n",
    "        if i == 0:\n",
    "            if 0 < roulette < Group_assessment_value[i][1]:\n",
    "                break\n",
    "        if Group_assessment_value[i-1][1] < roulette < Group_assessment_value[i][1]:\n",
    "            break\n",
    "    return i"
   ]
  },
  {
   "cell_type": "code",
   "execution_count": null,
   "metadata": {
    "collapsed": true,
    "scrolled": false
   },
   "outputs": [],
   "source": []
  },
  {
   "cell_type": "code",
   "execution_count": null,
   "metadata": {
    "collapsed": true
   },
   "outputs": [],
   "source": []
  },
  {
   "cell_type": "code",
   "execution_count": null,
   "metadata": {
    "collapsed": true
   },
   "outputs": [],
   "source": []
  },
  {
   "cell_type": "code",
   "execution_count": 262,
   "metadata": {
    "collapsed": true
   },
   "outputs": [],
   "source": [
    "#부모 변경\n",
    "def Change_parent(speedlist, Selected_list_in_roulette):\n",
    "    W = [[[0 for j in range(Station_section)]for k in range(One_day_train)]for z in range(N)]\n",
    "    # 교차함수 및 변이함수 (자식만들기)\n",
    "    for i in range(int(N/2)):\n",
    "        for j in range(One_day_train):\n",
    "            for k in range(Station_section):\n",
    "                #교차\n",
    "                selection = random.random()\n",
    "                ###############################################################\n",
    "                rand = random.choice(choice_list) # 0~ 이구간, 이구간 ~ 끝 교차 , 이구간 = 1~리스트 크기 -1 \n",
    "                if selection < Pc:\n",
    "                    # W(교차된 자식) = Selected_list_in_roulette(선택된 리스트에서) rand구간으로 나눈 값\n",
    "                    W[i*2][j][k]     = speedlist[Selected_list_in_roulette[i*2]][j][k][0:rand]         + speedlist[Selected_list_in_roulette[i*2+1]][j][k][rand:]\n",
    "                    W[i*2+1][j][k] = speedlist[Selected_list_in_roulette[i*2+1]][j][k][0:rand] + speedlist[Selected_list_in_roulette[i*2]][j][k][rand:]\n",
    "                else:\n",
    "                    W[i*2][j][k]     = speedlist[Selected_list_in_roulette[i*2]][j][k]\n",
    "                    W[i*2+1][j][k] = speedlist[Selected_list_in_roulette[i*2+1]][j][k]\n",
    "                #변의\n",
    "                for z in range(2):\n",
    "                    # Pm * 100 분의 1의 확률 \n",
    "                    if randint(0, 100 * Pm) == 0:\n",
    "                        #selection 부분을 변의 1 -> 0  0 -> 1\n",
    "                        if W[i*2+z][j][k][rand] == 0:\n",
    "                            W[i*2+z][j][k][rand] = 1\n",
    "                        else:\n",
    "                            W[i*2+z][j][k][rand] = 0\n",
    "    return W"
   ]
  },
  {
   "cell_type": "code",
   "execution_count": null,
   "metadata": {
    "collapsed": true
   },
   "outputs": [],
   "source": []
  },
  {
   "cell_type": "code",
   "execution_count": null,
   "metadata": {
    "collapsed": true
   },
   "outputs": [],
   "source": []
  },
  {
   "cell_type": "code",
   "execution_count": null,
   "metadata": {
    "collapsed": true
   },
   "outputs": [],
   "source": []
  },
  {
   "cell_type": "code",
   "execution_count": null,
   "metadata": {
    "collapsed": true
   },
   "outputs": [],
   "source": []
  },
  {
   "cell_type": "code",
   "execution_count": 263,
   "metadata": {
    "collapsed": true
   },
   "outputs": [],
   "source": [
    "#세대 반복\n",
    "def Evolution(speedlist, num_generation):\n",
    "    All_New_Score_per_all = []\n",
    "    while 1: \n",
    "        if num_generation >= largest_generation:\n",
    "            break\n",
    "\n",
    "        #전체 값으로 해서 \n",
    "        Score_per_all = Make_Score_per_all(speedlist)\n",
    "\n",
    "        #평가한 값 \n",
    "        Group_assessment_value = Score_assessment_group(Score_per_all)\n",
    "\n",
    "        #                                         정렬   점수값이 높은 순으로\n",
    "        sortand_Group_assessmend = sorted(Group_assessment_value, key=operator.itemgetter(0),reverse=True)\n",
    "        #상위 save_value 개값        \n",
    "        save_assessmend_value = sortand_Group_assessmend[0:save_value]\n",
    "        # Score_per_all에서 몇번 배열이 상위 5개인지만 \n",
    "        # 리스트 해쉬값만\n",
    "        save_assessmend_num = [save_assessmend_value[i][2] for i in range(save_value)]\n",
    "\n",
    "\n",
    "        Selected_list_in_roulette = []\n",
    "\n",
    "        #룰렛에 선택된 리스트들 마지막 5개는 상위5개만 \n",
    "        for i in range(N-5):\n",
    "            Selected_list_in_roulette.append(roulettes(Group_assessment_value))\n",
    "\n",
    "        Selected_list_in_roulette += save_assessmend_num\n",
    "        \n",
    "        #룰렛 랜덤하게  근데이거하면 오류남 왜지?\n",
    "        #Selected_list_in_roulette = random.shuffle(Selected_list_in_roulette)\n",
    "        # ------------------------------------------------------------------------------------------------------------------------------------------------------------\n",
    "        \n",
    "        New_list = Change_parent(speedlist, Selected_list_in_roulette)\n",
    "        \n",
    "        New_Score_per_all = Make_Score_per_all(New_list)\n",
    "        \n",
    "        print(\"-\" * 15)    \n",
    "        print(num_generation,\"번째를 합니다.\")\n",
    "        print(\"-\" * 15)\n",
    "        for i, nl in enumerate(New_Score_per_all):\n",
    "            print(i, nl)\n",
    "        All_New_Score_per_all.append(New_Score_per_all)\n",
    "        speedlist = New_list\n",
    "        num_generation += 1\n",
    "\n",
    "    return New_list, All_New_Score_per_all"
   ]
  },
  {
   "cell_type": "code",
   "execution_count": null,
   "metadata": {
    "scrolled": true
   },
   "outputs": [
    {
     "name": "stdout",
     "output_type": "stream",
     "text": [
      "---------------\n",
      "0 번째를 합니다.\n",
      "---------------\n",
      "0 6614928.0\n",
      "1 6850368.0\n",
      "2 7112448.0\n",
      "3 6842928.0\n",
      "4 6645216.0\n",
      "5 6801744.0\n",
      "6 6867552.0\n",
      "7 7139664.0\n",
      "8 6547920.0\n",
      "9 6778608.0\n",
      "10 6732288.0\n",
      "11 6867264.0\n",
      "12 6851568.0\n",
      "13 6844944.0\n",
      "14 7026960.0\n",
      "15 6963120.0\n",
      "16 6752736.0\n",
      "17 6877536.0\n",
      "18 6994752.0\n",
      "19 6771936.0\n",
      "20 6852000.0\n",
      "21 6853104.0\n",
      "22 6899952.0\n",
      "23 6948096.0\n",
      "24 6945936.0\n",
      "25 6908688.0\n",
      "26 7007616.0\n",
      "27 6806016.0\n",
      "28 6878640.0\n",
      "29 6984624.0\n",
      "30 6869232.0\n",
      "31 6951024.0\n",
      "32 6755328.0\n",
      "33 6796416.0\n",
      "34 6817152.0\n",
      "35 6783456.0\n",
      "36 7006944.0\n",
      "37 6944208.0\n",
      "38 6850176.0\n",
      "39 6822528.0\n",
      "40 6772896.0\n",
      "41 6955008.0\n",
      "42 6971424.0\n",
      "43 6935904.0\n",
      "44 6593568.0\n",
      "45 7077264.0\n",
      "46 7066560.0\n",
      "47 7007616.0\n",
      "48 7005168.0\n",
      "49 7034688.0\n",
      "---------------\n",
      "1 번째를 합니다.\n",
      "---------------\n",
      "0 6913296.0\n",
      "1 6757056.0\n",
      "2 6725712.0\n",
      "3 6804576.0\n",
      "4 6818160.0\n",
      "5 6862272.0\n",
      "6 6914160.0\n",
      "7 6828240.0\n",
      "8 6944208.0\n",
      "9 6589488.0\n",
      "10 6603360.0\n",
      "11 6833712.0\n",
      "12 6910176.0\n",
      "13 6780240.0\n",
      "14 6847296.0\n",
      "15 6833952.0\n",
      "16 6603168.0\n",
      "17 7216224.0\n",
      "18 6872400.0\n",
      "19 7080624.0\n",
      "20 6827616.0\n",
      "21 6986448.0\n",
      "22 6883872.0\n",
      "23 7080000.0\n",
      "24 7002768.0\n",
      "25 6860112.0\n",
      "26 6980400.0\n",
      "27 6630672.0\n",
      "28 7073712.0\n",
      "29 6715296.0\n",
      "30 7022496.0\n",
      "31 6741456.0\n",
      "32 7057872.0\n",
      "33 6888192.0\n",
      "34 7133184.0\n",
      "35 7046976.0\n",
      "36 7138368.0\n",
      "37 6662688.0\n",
      "38 6804336.0\n",
      "39 6838656.0\n",
      "40 7089648.0\n",
      "41 7000128.0\n",
      "42 6835776.0\n",
      "43 6911136.0\n",
      "44 6815088.0\n",
      "45 7074720.0\n",
      "46 7095360.0\n",
      "47 7094352.0\n",
      "48 7072176.0\n",
      "49 7025808.0\n",
      "---------------\n",
      "2 번째를 합니다.\n",
      "---------------\n",
      "0 6669744.0\n",
      "1 6601680.0\n",
      "2 7089648.0\n",
      "3 7089648.0\n",
      "4 7127712.0\n",
      "5 6921456.0\n",
      "6 6913440.0\n",
      "7 6884688.0\n",
      "8 7141680.0\n",
      "9 7170096.0\n",
      "10 6602400.0\n",
      "11 7094592.0\n",
      "12 6835776.0\n",
      "13 6845616.0\n",
      "14 6839472.0\n",
      "15 6575280.0\n",
      "16 6825360.0\n",
      "17 7110288.0\n",
      "18 7095312.0\n",
      "19 6838848.0\n",
      "20 6637776.0\n",
      "21 6716208.0\n",
      "22 6840528.0\n",
      "23 7017408.0\n",
      "24 6820608.0\n",
      "25 6896976.0\n",
      "26 6785136.0\n",
      "27 6924624.0\n",
      "28 6819456.0\n",
      "29 6690672.0\n",
      "30 6850224.0\n",
      "31 6846192.0\n",
      "32 6665088.0\n",
      "33 6824688.0\n",
      "34 7131696.0\n",
      "35 6931104.0\n",
      "36 6986640.0\n",
      "37 7127472.0\n",
      "38 6973728.0\n",
      "39 7046640.0\n",
      "40 6759792.0\n",
      "41 6824496.0\n",
      "42 6600816.0\n",
      "43 6813984.0\n",
      "44 6935040.0\n",
      "45 7181472.0\n",
      "46 7152864.0\n",
      "47 7117920.0\n",
      "48 7097664.0\n",
      "49 7091952.0\n",
      "---------------\n",
      "3 번째를 합니다.\n",
      "---------------\n",
      "0 6890352.0\n",
      "1 6876624.0\n",
      "2 7094448.0\n",
      "3 6947712.0\n",
      "4 6733968.0\n",
      "5 7092816.0\n",
      "6 7022208.0\n",
      "7 6834048.0\n",
      "8 6844608.0\n",
      "9 6815568.0\n",
      "10 6610752.0\n",
      "11 7090560.0\n",
      "12 6914928.0\n",
      "13 7081296.0\n",
      "14 6959616.0\n",
      "15 6837600.0\n",
      "16 7034160.0\n",
      "17 7059216.0\n",
      "18 7132608.0\n",
      "19 7088784.0\n",
      "20 6924624.0\n",
      "21 6924624.0\n",
      "22 7166064.0\n",
      "23 6843024.0\n",
      "24 7049664.0\n",
      "25 6840192.0\n",
      "26 6968400.0\n",
      "27 6582768.0\n",
      "28 6618864.0\n",
      "29 6844512.0\n",
      "30 6646800.0\n",
      "31 6859152.0\n",
      "32 7074384.0\n",
      "33 6726000.0\n",
      "34 6926976.0\n",
      "35 7007760.0\n",
      "36 7022112.0\n",
      "37 6916416.0\n",
      "38 6913968.0\n",
      "39 6985344.0\n",
      "40 6867120.0\n",
      "41 7124064.0\n",
      "42 6897120.0\n",
      "43 6673680.0\n",
      "44 6872880.0\n",
      "45 7177296.0\n",
      "46 7139664.0\n",
      "47 7183296.0\n",
      "48 7158768.0\n",
      "49 7114224.0\n",
      "---------------\n",
      "4 번째를 합니다.\n",
      "---------------\n",
      "0 6859440.0\n",
      "1 7105008.0\n",
      "2 6700800.0\n",
      "3 6988704.0\n",
      "4 6821136.0\n",
      "5 6935136.0\n",
      "6 6837120.0\n",
      "7 6841440.0\n",
      "8 6900432.0\n",
      "9 6897600.0\n",
      "10 6870816.0\n",
      "11 6860112.0\n",
      "12 7143312.0\n",
      "13 7033728.0\n",
      "14 6963936.0\n",
      "15 6988464.0\n",
      "16 7094256.0\n",
      "17 6898896.0\n",
      "18 6875856.0\n",
      "19 7168560.0\n",
      "20 7087152.0\n",
      "21 6859104.0\n",
      "22 6701232.0\n",
      "23 7115760.0\n",
      "24 6591600.0\n",
      "25 7141584.0\n",
      "26 6963504.0\n",
      "27 7196112.0\n",
      "28 6915312.0\n",
      "29 7054560.0\n",
      "30 6832224.0\n",
      "31 6617664.0\n",
      "32 7150224.0\n",
      "33 7119840.0\n",
      "34 7140864.0\n",
      "35 7113024.0\n",
      "36 6865056.0\n",
      "37 7037424.0\n",
      "38 6879264.0\n",
      "39 7137120.0\n",
      "40 6693600.0\n",
      "41 6895728.0\n",
      "42 7071264.0\n",
      "43 7032144.0\n",
      "44 6867840.0\n",
      "45 7111968.0\n",
      "46 7174560.0\n",
      "47 7168800.0\n",
      "48 7129776.0\n",
      "49 7168752.0\n"
     ]
    }
   ],
   "source": [
    "test_list = []\n",
    "plt_score_per =[]\n",
    "test_list,plt_score  = Evolution(speedlist, 0)"
   ]
  },
  {
   "cell_type": "code",
   "execution_count": null,
   "metadata": {},
   "outputs": [],
   "source": [
    "test_list"
   ]
  },
  {
   "cell_type": "code",
   "execution_count": null,
   "metadata": {},
   "outputs": [],
   "source": [
    "plt_score"
   ]
  },
  {
   "cell_type": "code",
   "execution_count": null,
   "metadata": {},
   "outputs": [],
   "source": [
    "import matplotlib.pyplot as plt\n",
    "\n",
    "\n",
    "\n",
    "\n",
    "plt_score_max =  [max(plt_score[i]) for i in range(len(plt_score))]\n",
    "plt_score_avg  =  [sum(plt_score[i])/len(plt_score[i]) for i in range(len(plt_score))]\n",
    "print(plt_score_max)\n",
    "print(plt_score_avg)\n",
    "\n",
    "plt.plot(plt_score_max, 'y--')\n",
    "plt.plot(plt_score_avg,'b')\n",
    "\n",
    "plt.show()\n"
   ]
  },
  {
   "cell_type": "code",
   "execution_count": null,
   "metadata": {
    "collapsed": true
   },
   "outputs": [],
   "source": []
  },
  {
   "cell_type": "code",
   "execution_count": null,
   "metadata": {
    "collapsed": true
   },
   "outputs": [],
   "source": []
  },
  {
   "cell_type": "code",
   "execution_count": null,
   "metadata": {},
   "outputs": [],
   "source": [
    "Www = [[[0 for i in range(2)]for j in range(2)]for k in range(2)]\n",
    "    # 교차함수 및 변이함수 (자식만들기)\n",
    "    \n",
    "print(Www)\n",
    "for i in range(2):\n",
    "    for j in range(2):\n",
    "        for k in range(2):\n",
    "            Www[i][j][k] = [43,43,0,2,2]\n",
    "            \n",
    "Www"
   ]
  },
  {
   "cell_type": "code",
   "execution_count": null,
   "metadata": {
    "collapsed": true
   },
   "outputs": [],
   "source": []
  },
  {
   "cell_type": "code",
   "execution_count": null,
   "metadata": {},
   "outputs": [],
   "source": [
    "len(a)\n",
    "a"
   ]
  },
  {
   "cell_type": "code",
   "execution_count": null,
   "metadata": {},
   "outputs": [],
   "source": [
    "['12:34:20']+[23,45,93]"
   ]
  },
  {
   "cell_type": "code",
   "execution_count": null,
   "metadata": {
    "collapsed": true
   },
   "outputs": [],
   "source": []
  },
  {
   "cell_type": "code",
   "execution_count": null,
   "metadata": {},
   "outputs": [],
   "source": [
    "speedlist[1][10][1]"
   ]
  },
  {
   "cell_type": "code",
   "execution_count": null,
   "metadata": {
    "collapsed": true
   },
   "outputs": [],
   "source": []
  },
  {
   "cell_type": "code",
   "execution_count": null,
   "metadata": {},
   "outputs": [],
   "source": [
    "test_speedlist = [[[[0,1,1,1,1,1,1,1]for j in range(Station_section)]for k in range(One_day_train)]for z in range(N)]\n",
    "\n",
    "test_scoressss  = Make_Score_per_all(test_speedlist)\n",
    "\n",
    "test_scoressss"
   ]
  },
  {
   "cell_type": "code",
   "execution_count": null,
   "metadata": {
    "collapsed": true
   },
   "outputs": [],
   "source": []
  },
  {
   "cell_type": "code",
   "execution_count": null,
   "metadata": {},
   "outputs": [],
   "source": [
    "test_sp_list = [i-10 + i * i for i in range(10)]\n",
    "test_sp_list"
   ]
  },
  {
   "cell_type": "code",
   "execution_count": null,
   "metadata": {
    "collapsed": true
   },
   "outputs": [],
   "source": []
  }
 ],
 "metadata": {
  "kernelspec": {
   "display_name": "Python 3",
   "language": "python",
   "name": "python3"
  },
  "language_info": {
   "codemirror_mode": {
    "name": "ipython",
    "version": 3
   },
   "file_extension": ".py",
   "mimetype": "text/x-python",
   "name": "python",
   "nbconvert_exporter": "python",
   "pygments_lexer": "ipython3",
   "version": "3.6.0"
  }
 },
 "nbformat": 4,
 "nbformat_minor": 2
}
