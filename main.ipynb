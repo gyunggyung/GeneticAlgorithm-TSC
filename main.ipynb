{
 "cells": [
  {
   "cell_type": "markdown",
   "metadata": {},
   "source": [
    "```\n",
    "\n",
    "| ---- | ---- | ---- | ---- | ---- | ---- | ---- | ---- | ---- | ---- | ---- |  열차 하나 \n",
    "| ---- | ---- | ---- | ---- | ---- | ---- | ---- | ---- | ---- | ---- | ---- |\n",
    "| ---- | ---- | ---- | ---- | ---- | ---- | ---- | ---- | ---- | ---- | ---- |\n",
    "| ---- | ---- | ---- | ---- | ---- | ---- | ---- | ---- | ---- | ---- | ---- |\n",
    "| ---- | ---- | ---- | ---- | ---- | ---- | ---- | ---- | ---- | ---- | ---- |\n",
    "                            .\n",
    "                            .\n",
    "                            .\n",
    "                            .\n",
    "                            .\n",
    "| ---- | ---- | ---- | ---- | ---- | ---- | ---- | ---- | ---- | ---- | ---- |  열차 백 \n",
    "\n",
    "```\n",
    "\n",
    "전체 구간에 대해 유전 알고리즘을 적용시킴니다."
   ]
  },
  {
   "cell_type": "code",
   "execution_count": null,
   "metadata": {
    "collapsed": true
   },
   "outputs": [],
   "source": []
  },
  {
   "cell_type": "code",
   "execution_count": 73,
   "metadata": {
    "collapsed": true
   },
   "outputs": [],
   "source": [
    "# import 및 변수정의 구간\n",
    "import random\n",
    "import math\n",
    "import re\n",
    "import operator \n",
    "from random import randint\n",
    "\n",
    "# 리스트 크기\n",
    "listN = 8\n",
    "\n",
    "# 염색체 해집단 수\n",
    "N = 30\n",
    "\n",
    "# 역 구간\n",
    "Station_section = 11\n",
    "\n",
    "# 하루에 운행하는 열차 수\n",
    "One_day_train = 100\n",
    "\n",
    "#교차율\n",
    "Pc = 0.7\n",
    "\n",
    "#변이율 역수 관계\n",
    "Pm = 1000\n",
    "\n",
    "#마지막 세대수 \n",
    "largest_generation = 500\n",
    "\n",
    "#보존할 상위값\n",
    "save_value = 5\n"
   ]
  },
  {
   "cell_type": "code",
   "execution_count": 74,
   "metadata": {
    "collapsed": true
   },
   "outputs": [],
   "source": [
    "# 01010로 이루어진 리스트를 10진수로 디코딩하는 함수\n",
    "\n",
    "def decoding(X, Y=0):\n",
    "    \"\"\"\n",
    "    input   : 0100로 이루어진 리스트\n",
    "    return : 10진수 정수\n",
    "    \"\"\"\n",
    "    for i, x in enumerate(X[1:]):\n",
    "        Y += x* math.pow(2, listN -i -2)\n",
    "    #처음 값이 0이면 음수로 return\n",
    "    if X[0] == 0: return -Y\n",
    "    return Y"
   ]
  },
  {
   "cell_type": "code",
   "execution_count": 75,
   "metadata": {
    "collapsed": true
   },
   "outputs": [],
   "source": [
    "#파일을 2차원 배열로 바꿔주기\n",
    "\n",
    "def Readtxt(fname):\n",
    "    \"\"\"\n",
    "    input  : 파일들\n",
    "    return : 2차원 배열 \n",
    "    \"\"\"\n",
    "    w = []\n",
    "    with open(fname, 'r') as f :\n",
    "        for line in f: #for each line in the file,\n",
    "            w.append(line.split('\\t'))\n",
    "    return w"
   ]
  },
  {
   "cell_type": "code",
   "execution_count": 82,
   "metadata": {
    "collapsed": true
   },
   "outputs": [],
   "source": [
    "# 바뀌야됨\n",
    "\n",
    "def ScoreFunction(X):\n",
    "    \"\"\"\n",
    "    X에 속도 리스트를 넣어서 평가\n",
    "    \"\"\"\n",
    "    AirportNum = Readtxt('data/Number-of-train-people.txt')\n",
    "    AirportTime = Readtxt('data/Time-of-airport-train.txt')\n",
    "    AtherTime = Readtxt('data/Time-of-ather-train.txt')\n",
    "    sp = decoding(X)\n",
    "    return 777 - (6 * sp)"
   ]
  },
  {
   "cell_type": "code",
   "execution_count": 83,
   "metadata": {},
   "outputs": [],
   "source": [
    "#초기값\n",
    "speedlist = [[[[random.choice([0,1]) for i in range(listN)]for j in range(Station_section)]for k in range(One_day_train)]for z in range(N)]\n",
    "\n"
   ]
  },
  {
   "cell_type": "code",
   "execution_count": 84,
   "metadata": {
    "collapsed": true
   },
   "outputs": [],
   "source": [
    "#하루 열차의 총합 구하기\n",
    "def Make_Score_per_all(speedlist):\n",
    "    #열차마다 점수                             #30개의 경쟁 100개의 열차\n",
    "    Score_per_train = [[0 for i in range(One_day_train)]for j in range(N)]\n",
    "\n",
    "    # 30개의 경쟁\n",
    "    for k in range(N):\n",
    "        # 100대의 열차\n",
    "        for i in range(One_day_train):\n",
    "            # 11개의 역\n",
    "            for j in range(Station_section):\n",
    "                #각 열차에 대해      += 11개의 구간의 점수 합                   ([30경쟁][100대열차] +=  [30경쟁][100대열차][11개의 역])\n",
    "                Score_per_train[k][i] += ScoreFunction(speedlist[k][i][j])\n",
    "\n",
    "\n",
    "    # 하루마다의 점수 \n",
    "    Score_per_all = [0 for i in range(N)]\n",
    "\n",
    "    # 30개의 경쟁            \n",
    "    for i in range(N):\n",
    "        # 100대의 열차\n",
    "        for j in range(One_day_train):\n",
    "             Score_per_all[i] += Score_per_train[i][j]\n",
    "                \n",
    "    return Score_per_all"
   ]
  },
  {
   "cell_type": "code",
   "execution_count": 85,
   "metadata": {
    "scrolled": false
   },
   "outputs": [
    {
     "data": {
      "text/plain": [
       "[849588.0,\n",
       " 846522.0,\n",
       " 853110.0,\n",
       " 872268.0,\n",
       " 831588.0,\n",
       " 850560.0,\n",
       " 863238.0,\n",
       " 869748.0,\n",
       " 835362.0,\n",
       " 885504.0,\n",
       " 852996.0,\n",
       " 862044.0,\n",
       " 837168.0,\n",
       " 860814.0,\n",
       " 865092.0,\n",
       " 841092.0,\n",
       " 887442.0,\n",
       " 883410.0,\n",
       " 866310.0,\n",
       " 865446.0,\n",
       " 850338.0,\n",
       " 844134.0,\n",
       " 844908.0,\n",
       " 861120.0,\n",
       " 834510.0,\n",
       " 875940.0,\n",
       " 868206.0,\n",
       " 862758.0,\n",
       " 856350.0,\n",
       " 851550.0]"
      ]
     },
     "execution_count": 85,
     "metadata": {},
     "output_type": "execute_result"
    }
   ],
   "source": [
    "Score_per_all"
   ]
  },
  {
   "cell_type": "code",
   "execution_count": 90,
   "metadata": {
    "scrolled": true
   },
   "outputs": [
    {
     "name": "stdout",
     "output_type": "stream",
     "text": [
      "30 100 11 8 총개수 :  264000\n",
      "----------------------------------------------------------------------------------------------------\n",
      "846522.0\n",
      "6417.0\n",
      "1041.0\n"
     ]
    }
   ],
   "source": [
    "print(len(speedlist), len(speedlist[0]), len(speedlist[0][0]), len(speedlist[0][0][0]),\"총개수 : \" ,len(speedlist) * len(speedlist[0]) * len(speedlist[0][0]) * len(speedlist[0][0][0])\n",
    ")\n",
    "\n",
    "print(\"-\"*100)\n",
    "\n",
    "#하루마다의 점수 (이걸로 경쟁)\n",
    "print(Score_per_all[1])\n",
    "#열차마다의 점수\n",
    "print(Score_per_train[1][2])\n",
    "#구간마다의 점수\n",
    "print(ScoreFunction(speedlist[1][2][1]))\n"
   ]
  },
  {
   "cell_type": "code",
   "execution_count": 98,
   "metadata": {},
   "outputs": [
    {
     "data": {
      "text/plain": [
       "887442.0"
      ]
     },
     "execution_count": 98,
     "metadata": {},
     "output_type": "execute_result"
    }
   ],
   "source": [
    "def Group_assessment(Score_per_all):\n",
    "    # 적합도 비율 찾기\n",
    "    speedlist_evaluation = [[Score_per_all[i], 0, i] for i in range(N)]\n",
    "\n",
    "    Sum_of_fitness = 0\n",
    "    for i in range(N): \n",
    "        Sum_of_fitness += Score_per_all[i]\n",
    "    for i in range(N):\n",
    "        if i == 0:\n",
    "            speedlist_evaluation[i][1] = speedlist_evaluation[i][0]/Sum_of_fitness\n",
    "        else:\n",
    "            speedlist_evaluation[i][1] = speedlist_evaluation[i-1][1]  + speedlist_evaluation[i][0]/Sum_of_fitness\n",
    "    \n",
    "    return speedlist_evaluation\n",
    "\n",
    "#적합도 찾고 룰렛 준비\n",
    "Group_assessment_value = Group_assessment(Score_per_all)\n",
    "\n",
    "#상위 5개값                           정렬  점수값이 높은 상위 5개로 \n",
    "sortand_Group_assessmend = sorted(Group_assessment_value, key=operator.itemgetter(0),reverse=True)\n",
    "save_assessmend_value = sortand_Group_assessmend[0:save_value]\n",
    "save_assessmend_num = [save_assessmend_value[i][2] for i in range(save_value)]\n",
    "\n",
    "save_assessmend_num\n",
    "\n",
    "#Score_per_all[16]"
   ]
  },
  {
   "cell_type": "code",
   "execution_count": 30,
   "metadata": {},
   "outputs": [
    {
     "data": {
      "text/plain": [
       "264000"
      ]
     },
     "execution_count": 30,
     "metadata": {},
     "output_type": "execute_result"
    }
   ],
   "source": [
    "def Group_assessment(Score_per_all):\n",
    "    # 적합도 비율 찾기\n",
    "    # (각자의 값+이전값 총합)/총합\n",
    "    Sum_of_fitness = 0\n",
    "    for i in range(N): \n",
    "        Sum_of_fitness += One_day_train_list[i]\n",
    "    for i in range(N):\n",
    "        if i == 0:\n",
    "            speedlist_evaluation[i][3] = speedlist_evaluation[i][2]/Sum_of_fitness\n",
    "        else:\n",
    "            speedlist_evaluation[i][3] = speedlist_evaluation[i-1][3]  + speedlist_evaluation[i][2]/Sum_of_fitness\n",
    "    \n",
    "    return speedlist_evaluation\n",
    "\n",
    "\n",
    "Group_assessment_value = Group_assessment(speedlist)\n",
    "#Group_assessment_value\n",
    "sortand = sorted(Group_assessment_value, key=operator.itemgetter(2),reverse=True)\n",
    "save_assessmend_value = sortand[0:save_value]\n",
    "save_assessmend_num = [save_assessmend_value[i][4] for i in range(save_value)]\n",
    "print(save_assessmend_num)\n",
    "\n",
    "save_assessmend_value"
   ]
  },
  {
   "cell_type": "code",
   "execution_count": null,
   "metadata": {
    "collapsed": true
   },
   "outputs": [],
   "source": []
  }
 ],
 "metadata": {
  "kernelspec": {
   "display_name": "Python 3",
   "language": "python",
   "name": "python3"
  },
  "language_info": {
   "codemirror_mode": {
    "name": "ipython",
    "version": 3
   },
   "file_extension": ".py",
   "mimetype": "text/x-python",
   "name": "python",
   "nbconvert_exporter": "python",
   "pygments_lexer": "ipython3",
   "version": "3.6.0"
  }
 },
 "nbformat": 4,
 "nbformat_minor": 2
}
